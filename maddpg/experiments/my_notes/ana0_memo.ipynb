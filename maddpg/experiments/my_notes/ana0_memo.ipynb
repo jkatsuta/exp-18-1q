{
 "cells": [
  {
   "cell_type": "code",
   "execution_count": 1,
   "metadata": {},
   "outputs": [
    {
     "name": "stdout",
     "output_type": "stream",
     "text": [
      "4\n"
     ]
    }
   ],
   "source": [
    "# gym.spaces.MultiDiscreteについての調査\n",
    "\n",
    "from gym import spaces\n",
    "\n",
    "space = spaces.Discrete(8)\n",
    "x = space.sample()\n",
    "assert space.contains(x)\n",
    "assert space.n == 8\n",
    "print(x)"
   ]
  },
  {
   "cell_type": "code",
   "execution_count": 2,
   "metadata": {},
   "outputs": [
    {
     "name": "stdout",
     "output_type": "stream",
     "text": [
      "[5 8]\n",
      "[10 10]\n"
     ]
    }
   ],
   "source": [
    "a = spaces.MultiDiscrete([10, 10])\n",
    "print(a.sample())\n",
    "print(a.nvec)"
   ]
  },
  {
   "cell_type": "code",
   "execution_count": 3,
   "metadata": {},
   "outputs": [
    {
     "name": "stdout",
     "output_type": "stream",
     "text": [
      "exp_simple_world_comm_13-03-2018_14-48-15 simple_world_comm\n"
     ]
    }
   ],
   "source": [
    "import re\n",
    "s = 'exp_results/exp_simple_world_comm_13-03-2018_14-48-15/models/model-2000'\n",
    "repat = re.compile('^exp_([!-~]+)_\\d{2}-\\d{2}-\\d{4}_\\d{2}-\\d{2}-\\d{2}$')\n",
    "\n",
    "ss = s.split('/')\n",
    "for _ in ss:\n",
    "    m = repat.match(_)\n",
    "    if m: print(_, m.group(1))"
   ]
  },
  {
   "cell_type": "code",
   "execution_count": null,
   "metadata": {
    "collapsed": true
   },
   "outputs": [],
   "source": []
  }
 ],
 "metadata": {
  "kernelspec": {
   "display_name": "Python 3",
   "language": "python",
   "name": "python3"
  },
  "language_info": {
   "codemirror_mode": {
    "name": "ipython",
    "version": 3
   },
   "file_extension": ".py",
   "mimetype": "text/x-python",
   "name": "python",
   "nbconvert_exporter": "python",
   "pygments_lexer": "ipython3",
   "version": "3.6.3"
  }
 },
 "nbformat": 4,
 "nbformat_minor": 2
}
